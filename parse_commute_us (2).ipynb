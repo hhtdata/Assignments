{
 "cells": [
  {
   "cell_type": "code",
   "execution_count": 3,
   "metadata": {
    "collapsed": true
   },
   "outputs": [],
   "source": [
    "import pandas as pd\n",
    "%matplotlib inline\n",
    "import matplotlib.pyplot as plt\n",
    "import numpy as np"
   ]
  },
  {
   "cell_type": "markdown",
   "metadata": {},
   "source": [
    "## Column specs taken from [here](https://www2.census.gov/programs-surveys/commuting/guidance/record-layouts/coxcoasc.txt)"
   ]
  },
  {
   "cell_type": "code",
   "execution_count": 4,
   "metadata": {
    "collapsed": true
   },
   "outputs": [],
   "source": [
    "cols=[(1,2),(4,6),(8,10),(12,15),(17,21),(23,25),(27,29),(31,33),(35,38),(40,44),(46,54),(56,85),(86,113)]"
   ]
  },
  {
   "cell_type": "code",
   "execution_count": 5,
   "metadata": {},
   "outputs": [
    {
     "data": {
      "text/plain": [
       "[(1, 2),\n",
       " (4, 6),\n",
       " (8, 10),\n",
       " (12, 15),\n",
       " (17, 21),\n",
       " (23, 25),\n",
       " (27, 29),\n",
       " (31, 33),\n",
       " (35, 38),\n",
       " (40, 44),\n",
       " (46, 54),\n",
       " (56, 85),\n",
       " (86, 113)]"
      ]
     },
     "execution_count": 5,
     "metadata": {},
     "output_type": "execute_result"
    }
   ],
   "source": [
    "cols"
   ]
  },
  {
   "cell_type": "code",
   "execution_count": 6,
   "metadata": {
    "collapsed": true
   },
   "outputs": [],
   "source": [
    "cols=list(map(lambda x:[x[0]-1,x[1]],cols))\n",
    "# Need to convert from 1-indexing to 0-indexing"
   ]
  },
  {
   "cell_type": "code",
   "execution_count": 7,
   "metadata": {
    "collapsed": true
   },
   "outputs": [],
   "source": [
    "df=pd.read_fwf('usresco.txt',colspecs=cols,header=None)"
   ]
  },
  {
   "cell_type": "markdown",
   "metadata": {},
   "source": [
    "The 3rd,5th,8th and 10th columns are empty except for a couple of specific states (Connecticut, Maine, Massachusetts, New Hampshire, Rhode Island, and Vermont)  \n",
    "\n",
    "Note: The FIPS codes (e.g. in 1st and second columns have been converted to integers '008' -> 8). "
   ]
  },
  {
   "cell_type": "code",
   "execution_count": 8,
   "metadata": {},
   "outputs": [
    {
     "data": {
      "text/html": [
       "<div>\n",
       "<style>\n",
       "    .dataframe thead tr:only-child th {\n",
       "        text-align: right;\n",
       "    }\n",
       "\n",
       "    .dataframe thead th {\n",
       "        text-align: left;\n",
       "    }\n",
       "\n",
       "    .dataframe tbody tr th {\n",
       "        vertical-align: top;\n",
       "    }\n",
       "</style>\n",
       "<table border=\"1\" class=\"dataframe\">\n",
       "  <thead>\n",
       "    <tr style=\"text-align: right;\">\n",
       "      <th></th>\n",
       "      <th>0</th>\n",
       "      <th>1</th>\n",
       "      <th>2</th>\n",
       "      <th>3</th>\n",
       "      <th>4</th>\n",
       "      <th>5</th>\n",
       "      <th>6</th>\n",
       "      <th>7</th>\n",
       "      <th>8</th>\n",
       "      <th>9</th>\n",
       "      <th>10</th>\n",
       "      <th>11</th>\n",
       "      <th>12</th>\n",
       "    </tr>\n",
       "  </thead>\n",
       "  <tbody>\n",
       "    <tr>\n",
       "      <th>221393</th>\n",
       "      <td>56</td>\n",
       "      <td>45</td>\n",
       "      <td>NaN</td>\n",
       "      <td>9999</td>\n",
       "      <td>NaN</td>\n",
       "      <td>56</td>\n",
       "      <td>25</td>\n",
       "      <td>NaN</td>\n",
       "      <td>1350</td>\n",
       "      <td>NaN</td>\n",
       "      <td>13</td>\n",
       "      <td>Weston County</td>\n",
       "      <td>Natrona County</td>\n",
       "    </tr>\n",
       "    <tr>\n",
       "      <th>221394</th>\n",
       "      <td>56</td>\n",
       "      <td>45</td>\n",
       "      <td>NaN</td>\n",
       "      <td>9999</td>\n",
       "      <td>NaN</td>\n",
       "      <td>56</td>\n",
       "      <td>27</td>\n",
       "      <td>NaN</td>\n",
       "      <td>9999</td>\n",
       "      <td>NaN</td>\n",
       "      <td>16</td>\n",
       "      <td>Weston County</td>\n",
       "      <td>Niobrara County</td>\n",
       "    </tr>\n",
       "    <tr>\n",
       "      <th>221395</th>\n",
       "      <td>56</td>\n",
       "      <td>45</td>\n",
       "      <td>NaN</td>\n",
       "      <td>9999</td>\n",
       "      <td>NaN</td>\n",
       "      <td>56</td>\n",
       "      <td>33</td>\n",
       "      <td>NaN</td>\n",
       "      <td>9999</td>\n",
       "      <td>NaN</td>\n",
       "      <td>4</td>\n",
       "      <td>Weston County</td>\n",
       "      <td>Sheridan County</td>\n",
       "    </tr>\n",
       "    <tr>\n",
       "      <th>221396</th>\n",
       "      <td>56</td>\n",
       "      <td>45</td>\n",
       "      <td>NaN</td>\n",
       "      <td>9999</td>\n",
       "      <td>NaN</td>\n",
       "      <td>56</td>\n",
       "      <td>37</td>\n",
       "      <td>NaN</td>\n",
       "      <td>9999</td>\n",
       "      <td>NaN</td>\n",
       "      <td>2</td>\n",
       "      <td>Weston County</td>\n",
       "      <td>Sweetwater County</td>\n",
       "    </tr>\n",
       "    <tr>\n",
       "      <th>221397</th>\n",
       "      <td>56</td>\n",
       "      <td>45</td>\n",
       "      <td>NaN</td>\n",
       "      <td>9999</td>\n",
       "      <td>NaN</td>\n",
       "      <td>56</td>\n",
       "      <td>45</td>\n",
       "      <td>NaN</td>\n",
       "      <td>9999</td>\n",
       "      <td>NaN</td>\n",
       "      <td>2617</td>\n",
       "      <td>Weston County</td>\n",
       "      <td>Weston County</td>\n",
       "    </tr>\n",
       "  </tbody>\n",
       "</table>\n",
       "</div>"
      ],
      "text/plain": [
       "        0   1   2     3   4   5   6   7     8   9     10             11  \\\n",
       "221393  56  45 NaN  9999 NaN  56  25 NaN  1350 NaN    13  Weston County   \n",
       "221394  56  45 NaN  9999 NaN  56  27 NaN  9999 NaN    16  Weston County   \n",
       "221395  56  45 NaN  9999 NaN  56  33 NaN  9999 NaN     4  Weston County   \n",
       "221396  56  45 NaN  9999 NaN  56  37 NaN  9999 NaN     2  Weston County   \n",
       "221397  56  45 NaN  9999 NaN  56  45 NaN  9999 NaN  2617  Weston County   \n",
       "\n",
       "                       12  \n",
       "221393     Natrona County  \n",
       "221394    Niobrara County  \n",
       "221395    Sheridan County  \n",
       "221396  Sweetwater County  \n",
       "221397      Weston County  "
      ]
     },
     "execution_count": 8,
     "metadata": {},
     "output_type": "execute_result"
    }
   ],
   "source": [
    "df.tail()"
   ]
  },
  {
   "cell_type": "code",
   "execution_count": 9,
   "metadata": {
    "collapsed": true
   },
   "outputs": [],
   "source": [
    "names=['FIPS_state_res','FIPS_co_res','census_MCD_res',\\\n",
    "            'FIPS_MSA_res','FIPS_MCD_res','FIPS_state_work','FIPS_co_work',\\\n",
    "            'census_MCD_work','FIPS_MSA_work','FIPS_MCD_work','nWorkers',\\\n",
    "           'res_name','work_name']"
   ]
  },
  {
   "cell_type": "code",
   "execution_count": 10,
   "metadata": {
    "collapsed": true
   },
   "outputs": [],
   "source": [
    "df.columns=names"
   ]
  },
  {
   "cell_type": "code",
   "execution_count": 11,
   "metadata": {
    "scrolled": false
   },
   "outputs": [
    {
     "data": {
      "text/html": [
       "<div>\n",
       "<style>\n",
       "    .dataframe thead tr:only-child th {\n",
       "        text-align: right;\n",
       "    }\n",
       "\n",
       "    .dataframe thead th {\n",
       "        text-align: left;\n",
       "    }\n",
       "\n",
       "    .dataframe tbody tr th {\n",
       "        vertical-align: top;\n",
       "    }\n",
       "</style>\n",
       "<table border=\"1\" class=\"dataframe\">\n",
       "  <thead>\n",
       "    <tr style=\"text-align: right;\">\n",
       "      <th></th>\n",
       "      <th>FIPS_state_res</th>\n",
       "      <th>FIPS_co_res</th>\n",
       "      <th>census_MCD_res</th>\n",
       "      <th>FIPS_MSA_res</th>\n",
       "      <th>FIPS_MCD_res</th>\n",
       "      <th>FIPS_state_work</th>\n",
       "      <th>FIPS_co_work</th>\n",
       "      <th>census_MCD_work</th>\n",
       "      <th>FIPS_MSA_work</th>\n",
       "      <th>FIPS_MCD_work</th>\n",
       "      <th>nWorkers</th>\n",
       "      <th>res_name</th>\n",
       "      <th>work_name</th>\n",
       "    </tr>\n",
       "  </thead>\n",
       "  <tbody>\n",
       "    <tr>\n",
       "      <th>0</th>\n",
       "      <td>1</td>\n",
       "      <td>1</td>\n",
       "      <td>NaN</td>\n",
       "      <td>5240</td>\n",
       "      <td>NaN</td>\n",
       "      <td>1</td>\n",
       "      <td>1</td>\n",
       "      <td>NaN</td>\n",
       "      <td>5240</td>\n",
       "      <td>NaN</td>\n",
       "      <td>6855</td>\n",
       "      <td>Autauga County</td>\n",
       "      <td>Autauga County</td>\n",
       "    </tr>\n",
       "    <tr>\n",
       "      <th>1</th>\n",
       "      <td>1</td>\n",
       "      <td>1</td>\n",
       "      <td>NaN</td>\n",
       "      <td>5240</td>\n",
       "      <td>NaN</td>\n",
       "      <td>1</td>\n",
       "      <td>7</td>\n",
       "      <td>NaN</td>\n",
       "      <td>9999</td>\n",
       "      <td>NaN</td>\n",
       "      <td>17</td>\n",
       "      <td>Autauga County</td>\n",
       "      <td>Bibb County</td>\n",
       "    </tr>\n",
       "    <tr>\n",
       "      <th>2</th>\n",
       "      <td>1</td>\n",
       "      <td>1</td>\n",
       "      <td>NaN</td>\n",
       "      <td>5240</td>\n",
       "      <td>NaN</td>\n",
       "      <td>1</td>\n",
       "      <td>11</td>\n",
       "      <td>NaN</td>\n",
       "      <td>9999</td>\n",
       "      <td>NaN</td>\n",
       "      <td>5</td>\n",
       "      <td>Autauga County</td>\n",
       "      <td>Bullock County</td>\n",
       "    </tr>\n",
       "    <tr>\n",
       "      <th>3</th>\n",
       "      <td>1</td>\n",
       "      <td>1</td>\n",
       "      <td>NaN</td>\n",
       "      <td>5240</td>\n",
       "      <td>NaN</td>\n",
       "      <td>1</td>\n",
       "      <td>21</td>\n",
       "      <td>NaN</td>\n",
       "      <td>9999</td>\n",
       "      <td>NaN</td>\n",
       "      <td>242</td>\n",
       "      <td>Autauga County</td>\n",
       "      <td>Chilton County</td>\n",
       "    </tr>\n",
       "    <tr>\n",
       "      <th>4</th>\n",
       "      <td>1</td>\n",
       "      <td>1</td>\n",
       "      <td>NaN</td>\n",
       "      <td>5240</td>\n",
       "      <td>NaN</td>\n",
       "      <td>1</td>\n",
       "      <td>41</td>\n",
       "      <td>NaN</td>\n",
       "      <td>9999</td>\n",
       "      <td>NaN</td>\n",
       "      <td>16</td>\n",
       "      <td>Autauga County</td>\n",
       "      <td>Crenshaw County</td>\n",
       "    </tr>\n",
       "  </tbody>\n",
       "</table>\n",
       "</div>"
      ],
      "text/plain": [
       "   FIPS_state_res  FIPS_co_res  census_MCD_res  FIPS_MSA_res  FIPS_MCD_res  \\\n",
       "0               1            1             NaN          5240           NaN   \n",
       "1               1            1             NaN          5240           NaN   \n",
       "2               1            1             NaN          5240           NaN   \n",
       "3               1            1             NaN          5240           NaN   \n",
       "4               1            1             NaN          5240           NaN   \n",
       "\n",
       "   FIPS_state_work  FIPS_co_work  census_MCD_work  FIPS_MSA_work  \\\n",
       "0                1             1              NaN           5240   \n",
       "1                1             7              NaN           9999   \n",
       "2                1            11              NaN           9999   \n",
       "3                1            21              NaN           9999   \n",
       "4                1            41              NaN           9999   \n",
       "\n",
       "   FIPS_MCD_work  nWorkers        res_name        work_name  \n",
       "0            NaN      6855  Autauga County   Autauga County  \n",
       "1            NaN        17  Autauga County      Bibb County  \n",
       "2            NaN         5  Autauga County   Bullock County  \n",
       "3            NaN       242  Autauga County   Chilton County  \n",
       "4            NaN        16  Autauga County  Crenshaw County  "
      ]
     },
     "execution_count": 11,
     "metadata": {},
     "output_type": "execute_result"
    }
   ],
   "source": [
    "df.head()"
   ]
  },
  {
   "cell_type": "code",
   "execution_count": 12,
   "metadata": {
    "collapsed": true
   },
   "outputs": [],
   "source": [
    "#mapDict={'AL':1, 'AK':2,'AZ':4,'AR':5,'CA':6,'CO':8,'CT':9}"
   ]
  },
  {
   "cell_type": "code",
   "execution_count": 13,
   "metadata": {
    "collapsed": true
   },
   "outputs": [],
   "source": [
    "mapDict= {1:'AL', 2:'AK', 4:'AZ', 5:'AR', 6:'CA', 8:'CO', 9:'CT', 10:'DE', 11:'DC', 12:'FL', 13:'GA', 15:'HI', 16:'ID', 17:'IL', 18:'IN', 19:'IA', 20:'KS', 21:'KY', 22:'LA', 23:'ME', 24:'MD', 25:'MA', 26:'MI', 27:'MN', 28:'MS', 29:'MO', 30:'MT', 31:'NE', 32:'NV', 33:'NH', 34:'NJ', 35:'NM', 36:'NY', 37:'NC', 38:'ND', 39:'OH', 40:'OK', 41:'OR', 42:'PA', 44:'RI', 45:'SC', 46:'SD', 47:'TN', 48:'TX', 49:'UT', 50:'VT', 51:'VA', 53:'WA', 54:'WV', 55:'WI', 56:'WY'}"
   ]
  },
  {
   "cell_type": "code",
   "execution_count": 14,
   "metadata": {
    "collapsed": true
   },
   "outputs": [],
   "source": [
    "df['State'] = df['FIPS_state_res'].map(mapDict)"
   ]
  },
  {
   "cell_type": "code",
   "execution_count": 15,
   "metadata": {},
   "outputs": [
    {
     "data": {
      "text/html": [
       "<div>\n",
       "<style>\n",
       "    .dataframe thead tr:only-child th {\n",
       "        text-align: right;\n",
       "    }\n",
       "\n",
       "    .dataframe thead th {\n",
       "        text-align: left;\n",
       "    }\n",
       "\n",
       "    .dataframe tbody tr th {\n",
       "        vertical-align: top;\n",
       "    }\n",
       "</style>\n",
       "<table border=\"1\" class=\"dataframe\">\n",
       "  <thead>\n",
       "    <tr style=\"text-align: right;\">\n",
       "      <th></th>\n",
       "      <th>FIPS_state_res</th>\n",
       "      <th>FIPS_co_res</th>\n",
       "      <th>census_MCD_res</th>\n",
       "      <th>FIPS_MSA_res</th>\n",
       "      <th>FIPS_MCD_res</th>\n",
       "      <th>FIPS_state_work</th>\n",
       "      <th>FIPS_co_work</th>\n",
       "      <th>census_MCD_work</th>\n",
       "      <th>FIPS_MSA_work</th>\n",
       "      <th>FIPS_MCD_work</th>\n",
       "      <th>nWorkers</th>\n",
       "      <th>res_name</th>\n",
       "      <th>work_name</th>\n",
       "      <th>State</th>\n",
       "    </tr>\n",
       "  </thead>\n",
       "  <tbody>\n",
       "    <tr>\n",
       "      <th>0</th>\n",
       "      <td>1</td>\n",
       "      <td>1</td>\n",
       "      <td>NaN</td>\n",
       "      <td>5240</td>\n",
       "      <td>NaN</td>\n",
       "      <td>1</td>\n",
       "      <td>1</td>\n",
       "      <td>NaN</td>\n",
       "      <td>5240</td>\n",
       "      <td>NaN</td>\n",
       "      <td>6855</td>\n",
       "      <td>Autauga County</td>\n",
       "      <td>Autauga County</td>\n",
       "      <td>AL</td>\n",
       "    </tr>\n",
       "    <tr>\n",
       "      <th>1</th>\n",
       "      <td>1</td>\n",
       "      <td>1</td>\n",
       "      <td>NaN</td>\n",
       "      <td>5240</td>\n",
       "      <td>NaN</td>\n",
       "      <td>1</td>\n",
       "      <td>7</td>\n",
       "      <td>NaN</td>\n",
       "      <td>9999</td>\n",
       "      <td>NaN</td>\n",
       "      <td>17</td>\n",
       "      <td>Autauga County</td>\n",
       "      <td>Bibb County</td>\n",
       "      <td>AL</td>\n",
       "    </tr>\n",
       "    <tr>\n",
       "      <th>2</th>\n",
       "      <td>1</td>\n",
       "      <td>1</td>\n",
       "      <td>NaN</td>\n",
       "      <td>5240</td>\n",
       "      <td>NaN</td>\n",
       "      <td>1</td>\n",
       "      <td>11</td>\n",
       "      <td>NaN</td>\n",
       "      <td>9999</td>\n",
       "      <td>NaN</td>\n",
       "      <td>5</td>\n",
       "      <td>Autauga County</td>\n",
       "      <td>Bullock County</td>\n",
       "      <td>AL</td>\n",
       "    </tr>\n",
       "    <tr>\n",
       "      <th>3</th>\n",
       "      <td>1</td>\n",
       "      <td>1</td>\n",
       "      <td>NaN</td>\n",
       "      <td>5240</td>\n",
       "      <td>NaN</td>\n",
       "      <td>1</td>\n",
       "      <td>21</td>\n",
       "      <td>NaN</td>\n",
       "      <td>9999</td>\n",
       "      <td>NaN</td>\n",
       "      <td>242</td>\n",
       "      <td>Autauga County</td>\n",
       "      <td>Chilton County</td>\n",
       "      <td>AL</td>\n",
       "    </tr>\n",
       "    <tr>\n",
       "      <th>4</th>\n",
       "      <td>1</td>\n",
       "      <td>1</td>\n",
       "      <td>NaN</td>\n",
       "      <td>5240</td>\n",
       "      <td>NaN</td>\n",
       "      <td>1</td>\n",
       "      <td>41</td>\n",
       "      <td>NaN</td>\n",
       "      <td>9999</td>\n",
       "      <td>NaN</td>\n",
       "      <td>16</td>\n",
       "      <td>Autauga County</td>\n",
       "      <td>Crenshaw County</td>\n",
       "      <td>AL</td>\n",
       "    </tr>\n",
       "  </tbody>\n",
       "</table>\n",
       "</div>"
      ],
      "text/plain": [
       "   FIPS_state_res  FIPS_co_res  census_MCD_res  FIPS_MSA_res  FIPS_MCD_res  \\\n",
       "0               1            1             NaN          5240           NaN   \n",
       "1               1            1             NaN          5240           NaN   \n",
       "2               1            1             NaN          5240           NaN   \n",
       "3               1            1             NaN          5240           NaN   \n",
       "4               1            1             NaN          5240           NaN   \n",
       "\n",
       "   FIPS_state_work  FIPS_co_work  census_MCD_work  FIPS_MSA_work  \\\n",
       "0                1             1              NaN           5240   \n",
       "1                1             7              NaN           9999   \n",
       "2                1            11              NaN           9999   \n",
       "3                1            21              NaN           9999   \n",
       "4                1            41              NaN           9999   \n",
       "\n",
       "   FIPS_MCD_work  nWorkers        res_name        work_name State  \n",
       "0            NaN      6855  Autauga County   Autauga County    AL  \n",
       "1            NaN        17  Autauga County      Bibb County    AL  \n",
       "2            NaN         5  Autauga County   Bullock County    AL  \n",
       "3            NaN       242  Autauga County   Chilton County    AL  \n",
       "4            NaN        16  Autauga County  Crenshaw County    AL  "
      ]
     },
     "execution_count": 15,
     "metadata": {},
     "output_type": "execute_result"
    }
   ],
   "source": [
    "df.head()"
   ]
  },
  {
   "cell_type": "code",
   "execution_count": 16,
   "metadata": {
    "collapsed": true
   },
   "outputs": [],
   "source": [
    "#Number of unique counties in the data set."
   ]
  },
  {
   "cell_type": "code",
   "execution_count": 17,
   "metadata": {},
   "outputs": [
    {
     "data": {
      "text/plain": [
       "321"
      ]
     },
     "execution_count": 17,
     "metadata": {},
     "output_type": "execute_result"
    }
   ],
   "source": [
    "df['FIPS_co_res'].nunique()"
   ]
  },
  {
   "cell_type": "code",
   "execution_count": 18,
   "metadata": {
    "collapsed": true
   },
   "outputs": [],
   "source": [
    "state_groups = df.groupby('State')"
   ]
  },
  {
   "cell_type": "code",
   "execution_count": 19,
   "metadata": {},
   "outputs": [
    {
     "data": {
      "text/plain": [
       "<pandas.core.groupby.DataFrameGroupBy object at 0x00000229A2344C88>"
      ]
     },
     "execution_count": 19,
     "metadata": {},
     "output_type": "execute_result"
    }
   ],
   "source": [
    "state_groups"
   ]
  },
  {
   "cell_type": "code",
   "execution_count": 20,
   "metadata": {
    "collapsed": true
   },
   "outputs": [],
   "source": [
    "#What is the number of counties in each state?"
   ]
  },
  {
   "cell_type": "code",
   "execution_count": 21,
   "metadata": {},
   "outputs": [
    {
     "data": {
      "text/plain": [
       "State\n",
       "AK     25\n",
       "AL     67\n",
       "AR     75\n",
       "AZ     15\n",
       "CA     58\n",
       "CO     63\n",
       "CT      8\n",
       "DC      1\n",
       "DE      3\n",
       "FL     67\n",
       "GA    159\n",
       "HI      5\n",
       "IA     99\n",
       "ID     44\n",
       "IL    102\n",
       "IN     92\n",
       "KS    105\n",
       "KY    120\n",
       "LA     64\n",
       "MA     14\n",
       "MD     24\n",
       "ME     16\n",
       "MI     83\n",
       "MN     87\n",
       "MO    115\n",
       "MS     82\n",
       "MT     57\n",
       "NC    100\n",
       "ND     53\n",
       "NE     93\n",
       "NH     10\n",
       "NJ     21\n",
       "NM     33\n",
       "NV     17\n",
       "NY     62\n",
       "OH     88\n",
       "OK     77\n",
       "OR     36\n",
       "PA     67\n",
       "RI      5\n",
       "SC     46\n",
       "SD     66\n",
       "TN     95\n",
       "TX    254\n",
       "UT     29\n",
       "VA    136\n",
       "VT     14\n",
       "WA     39\n",
       "WI     72\n",
       "WV     55\n",
       "WY     23\n",
       "Name: FIPS_co_res, dtype: int64"
      ]
     },
     "execution_count": 21,
     "metadata": {},
     "output_type": "execute_result"
    }
   ],
   "source": [
    "state_groups['FIPS_co_res'].nunique()"
   ]
  },
  {
   "cell_type": "code",
   "execution_count": 22,
   "metadata": {
    "collapsed": true
   },
   "outputs": [],
   "source": [
    "#Which commute has the maximum number of commuters?"
   ]
  },
  {
   "cell_type": "code",
   "execution_count": 23,
   "metadata": {
    "collapsed": true
   },
   "outputs": [],
   "source": [
    "max_commute = max(df['nWorkers'])"
   ]
  },
  {
   "cell_type": "code",
   "execution_count": 24,
   "metadata": {},
   "outputs": [
    {
     "name": "stdout",
     "output_type": "stream",
     "text": [
      "3872310\n"
     ]
    }
   ],
   "source": [
    "print(max_commute)"
   ]
  },
  {
   "cell_type": "code",
   "execution_count": 25,
   "metadata": {
    "collapsed": true
   },
   "outputs": [],
   "source": [
    "#Which county has the most commuters?"
   ]
  },
  {
   "cell_type": "code",
   "execution_count": 26,
   "metadata": {
    "collapsed": true
   },
   "outputs": [],
   "source": [
    "max_county = df.loc[df['nWorkers'].idxmax(),'res_name']"
   ]
  },
  {
   "cell_type": "code",
   "execution_count": 27,
   "metadata": {},
   "outputs": [
    {
     "name": "stdout",
     "output_type": "stream",
     "text": [
      "Los Angeles County\n"
     ]
    }
   ],
   "source": [
    "print(max_county)"
   ]
  },
  {
   "cell_type": "code",
   "execution_count": 28,
   "metadata": {
    "collapsed": true
   },
   "outputs": [],
   "source": [
    "max_state = df.loc[df['nWorkers'].idxmax(), 'State']"
   ]
  },
  {
   "cell_type": "code",
   "execution_count": 29,
   "metadata": {},
   "outputs": [
    {
     "name": "stdout",
     "output_type": "stream",
     "text": [
      "CA\n"
     ]
    }
   ],
   "source": [
    "print(max_state)"
   ]
  },
  {
   "cell_type": "code",
   "execution_count": 30,
   "metadata": {
    "collapsed": true
   },
   "outputs": [],
   "source": [
    "#Which county draws the most commuters?"
   ]
  },
  {
   "cell_type": "code",
   "execution_count": 31,
   "metadata": {
    "collapsed": true
   },
   "outputs": [],
   "source": [
    "max_work = df.loc[df['nWorkers'].idxmax(), 'work_name']"
   ]
  },
  {
   "cell_type": "code",
   "execution_count": 32,
   "metadata": {},
   "outputs": [
    {
     "name": "stdout",
     "output_type": "stream",
     "text": [
      "Los Angeles County\n"
     ]
    }
   ],
   "source": [
    "print(max_work)"
   ]
  },
  {
   "cell_type": "code",
   "execution_count": null,
   "metadata": {
    "collapsed": true
   },
   "outputs": [],
   "source": [
    "#What is the frequency of commuters?"
   ]
  },
  {
   "cell_type": "code",
   "execution_count": 33,
   "metadata": {},
   "outputs": [
    {
     "data": {
      "text/plain": [
       "(array([ -500000.,        0.,   500000.,  1000000.,  1500000.,  2000000.,\n",
       "         2500000.,  3000000.,  3500000.,  4000000.,  4500000.]),\n",
       " <a list of 11 Text xticklabel objects>)"
      ]
     },
     "execution_count": 33,
     "metadata": {},
     "output_type": "execute_result"
    },
    {
     "data": {
      "image/png": "[encoded data removed]",
      "text/plain": [
       "<matplotlib.figure.Figure at 0x229a1f8a5c0>"
      ]
     },
     "metadata": {},
     "output_type": "display_data"
    }
   ],
   "source": [
    "df['nWorkers'].plot(kind='hist',log=True, normed=1)\n",
    "plt.xticks(rotation='vertical')"
   ]
  },
  {
   "cell_type": "code",
   "execution_count": 34,
   "metadata": {},
   "outputs": [
    {
     "data": {
      "text/html": [
       "<div>\n",
       "<style>\n",
       "    .dataframe thead tr:only-child th {\n",
       "        text-align: right;\n",
       "    }\n",
       "\n",
       "    .dataframe thead th {\n",
       "        text-align: left;\n",
       "    }\n",
       "\n",
       "    .dataframe tbody tr th {\n",
       "        vertical-align: top;\n",
       "    }\n",
       "</style>\n",
       "<table border=\"1\" class=\"dataframe\">\n",
       "  <thead>\n",
       "    <tr style=\"text-align: right;\">\n",
       "      <th></th>\n",
       "      <th>FIPS_state_res</th>\n",
       "      <th>FIPS_co_res</th>\n",
       "      <th>census_MCD_res</th>\n",
       "      <th>FIPS_MSA_res</th>\n",
       "      <th>FIPS_MCD_res</th>\n",
       "      <th>FIPS_state_work</th>\n",
       "      <th>FIPS_co_work</th>\n",
       "      <th>census_MCD_work</th>\n",
       "      <th>FIPS_MSA_work</th>\n",
       "      <th>FIPS_MCD_work</th>\n",
       "      <th>nWorkers</th>\n",
       "      <th>res_name</th>\n",
       "      <th>work_name</th>\n",
       "      <th>State</th>\n",
       "    </tr>\n",
       "  </thead>\n",
       "  <tbody>\n",
       "    <tr>\n",
       "      <th>221393</th>\n",
       "      <td>56</td>\n",
       "      <td>45</td>\n",
       "      <td>NaN</td>\n",
       "      <td>9999</td>\n",
       "      <td>NaN</td>\n",
       "      <td>56</td>\n",
       "      <td>25</td>\n",
       "      <td>NaN</td>\n",
       "      <td>1350</td>\n",
       "      <td>NaN</td>\n",
       "      <td>13</td>\n",
       "      <td>Weston County</td>\n",
       "      <td>Natrona County</td>\n",
       "      <td>WY</td>\n",
       "    </tr>\n",
       "    <tr>\n",
       "      <th>221394</th>\n",
       "      <td>56</td>\n",
       "      <td>45</td>\n",
       "      <td>NaN</td>\n",
       "      <td>9999</td>\n",
       "      <td>NaN</td>\n",
       "      <td>56</td>\n",
       "      <td>27</td>\n",
       "      <td>NaN</td>\n",
       "      <td>9999</td>\n",
       "      <td>NaN</td>\n",
       "      <td>16</td>\n",
       "      <td>Weston County</td>\n",
       "      <td>Niobrara County</td>\n",
       "      <td>WY</td>\n",
       "    </tr>\n",
       "    <tr>\n",
       "      <th>221395</th>\n",
       "      <td>56</td>\n",
       "      <td>45</td>\n",
       "      <td>NaN</td>\n",
       "      <td>9999</td>\n",
       "      <td>NaN</td>\n",
       "      <td>56</td>\n",
       "      <td>33</td>\n",
       "      <td>NaN</td>\n",
       "      <td>9999</td>\n",
       "      <td>NaN</td>\n",
       "      <td>4</td>\n",
       "      <td>Weston County</td>\n",
       "      <td>Sheridan County</td>\n",
       "      <td>WY</td>\n",
       "    </tr>\n",
       "    <tr>\n",
       "      <th>221396</th>\n",
       "      <td>56</td>\n",
       "      <td>45</td>\n",
       "      <td>NaN</td>\n",
       "      <td>9999</td>\n",
       "      <td>NaN</td>\n",
       "      <td>56</td>\n",
       "      <td>37</td>\n",
       "      <td>NaN</td>\n",
       "      <td>9999</td>\n",
       "      <td>NaN</td>\n",
       "      <td>2</td>\n",
       "      <td>Weston County</td>\n",
       "      <td>Sweetwater County</td>\n",
       "      <td>WY</td>\n",
       "    </tr>\n",
       "    <tr>\n",
       "      <th>221397</th>\n",
       "      <td>56</td>\n",
       "      <td>45</td>\n",
       "      <td>NaN</td>\n",
       "      <td>9999</td>\n",
       "      <td>NaN</td>\n",
       "      <td>56</td>\n",
       "      <td>45</td>\n",
       "      <td>NaN</td>\n",
       "      <td>9999</td>\n",
       "      <td>NaN</td>\n",
       "      <td>2617</td>\n",
       "      <td>Weston County</td>\n",
       "      <td>Weston County</td>\n",
       "      <td>WY</td>\n",
       "    </tr>\n",
       "  </tbody>\n",
       "</table>\n",
       "</div>"
      ],
      "text/plain": [
       "        FIPS_state_res  FIPS_co_res  census_MCD_res  FIPS_MSA_res  \\\n",
       "221393              56           45             NaN          9999   \n",
       "221394              56           45             NaN          9999   \n",
       "221395              56           45             NaN          9999   \n",
       "221396              56           45             NaN          9999   \n",
       "221397              56           45             NaN          9999   \n",
       "\n",
       "        FIPS_MCD_res  FIPS_state_work  FIPS_co_work  census_MCD_work  \\\n",
       "221393           NaN               56            25              NaN   \n",
       "221394           NaN               56            27              NaN   \n",
       "221395           NaN               56            33              NaN   \n",
       "221396           NaN               56            37              NaN   \n",
       "221397           NaN               56            45              NaN   \n",
       "\n",
       "        FIPS_MSA_work  FIPS_MCD_work  nWorkers       res_name  \\\n",
       "221393           1350            NaN        13  Weston County   \n",
       "221394           9999            NaN        16  Weston County   \n",
       "221395           9999            NaN         4  Weston County   \n",
       "221396           9999            NaN         2  Weston County   \n",
       "221397           9999            NaN      2617  Weston County   \n",
       "\n",
       "                work_name State  \n",
       "221393     Natrona County    WY  \n",
       "221394    Niobrara County    WY  \n",
       "221395    Sheridan County    WY  \n",
       "221396  Sweetwater County    WY  \n",
       "221397      Weston County    WY  "
      ]
     },
     "execution_count": 34,
     "metadata": {},
     "output_type": "execute_result"
    }
   ],
   "source": [
    "df.tail()"
   ]
  },
  {
   "cell_type": "code",
   "execution_count": 35,
   "metadata": {
    "collapsed": true
   },
   "outputs": [],
   "source": [
    "df_state = df.groupby('State').sum()"
   ]
  },
  {
   "cell_type": "code",
   "execution_count": null,
   "metadata": {
    "collapsed": true
   },
   "outputs": [],
   "source": [
    "#How many total commuters are there per state?"
   ]
  },
  {
   "cell_type": "code",
   "execution_count": 36,
   "metadata": {},
   "outputs": [
    {
     "data": {
      "text/plain": [
       "State\n",
       "AK      263761\n",
       "AL     1735588\n",
       "AR      988712\n",
       "AZ     1600604\n",
       "CA    13940250\n",
       "CO     1637440\n",
       "CT     1673442\n",
       "DC      304428\n",
       "DE      334126\n",
       "FL     5794452\n",
       "GA     3106393\n",
       "HI      567765\n",
       "IA     1322064\n",
       "ID      440809\n",
       "IL     5351411\n",
       "IN     2587182\n",
       "KS     1178931\n",
       "KY     1565711\n",
       "LA     1645690\n",
       "MA     2979594\n",
       "MD     2482462\n",
       "ME      570883\n",
       "MI     4082403\n",
       "MN     2158733\n",
       "MO     2345816\n",
       "MS     1028014\n",
       "MT      349184\n",
       "NC     3300481\n",
       "ND      293548\n",
       "NE      775085\n",
       "NH      566589\n",
       "NJ     3812684\n",
       "NM      633135\n",
       "NV      604609\n",
       "NY     8220613\n",
       "OH     4843205\n",
       "OK     1374338\n",
       "OR     1294690\n",
       "PA     5348132\n",
       "RI      481230\n",
       "SC     1636356\n",
       "SD      324122\n",
       "TN     2239256\n",
       "TX     7610487\n",
       "UT      732376\n",
       "VA     3146858\n",
       "VT      276765\n",
       "WA     2302666\n",
       "WI     2349691\n",
       "WV      659136\n",
       "WY      208374\n",
       "Name: nWorkers, dtype: int64"
      ]
     },
     "execution_count": 36,
     "metadata": {},
     "output_type": "execute_result"
    }
   ],
   "source": [
    "df_state['nWorkers']"
   ]
  },
  {
   "cell_type": "code",
   "execution_count": 37,
   "metadata": {},
   "outputs": [
    {
     "data": {
      "text/plain": [
       "([0,\n",
       "  1,\n",
       "  2,\n",
       "  3,\n",
       "  4,\n",
       "  5,\n",
       "  6,\n",
       "  7,\n",
       "  8,\n",
       "  9,\n",
       "  10,\n",
       "  11,\n",
       "  12,\n",
       "  13,\n",
       "  14,\n",
       "  15,\n",
       "  16,\n",
       "  17,\n",
       "  18,\n",
       "  19,\n",
       "  20,\n",
       "  21,\n",
       "  22,\n",
       "  23,\n",
       "  24,\n",
       "  25,\n",
       "  26,\n",
       "  27,\n",
       "  28,\n",
       "  29,\n",
       "  30,\n",
       "  31,\n",
       "  32,\n",
       "  33,\n",
       "  34,\n",
       "  35,\n",
       "  36,\n",
       "  37,\n",
       "  38,\n",
       "  39,\n",
       "  40,\n",
       "  41,\n",
       "  42,\n",
       "  43,\n",
       "  44,\n",
       "  45,\n",
       "  46,\n",
       "  47,\n",
       "  48,\n",
       "  49,\n",
       "  50],\n",
       " <a list of 51 Text xticklabel objects>)"
      ]
     },
     "execution_count": 37,
     "metadata": {},
     "output_type": "execute_result"
    },
    {
     "data": {
      "image/png": "[encoded data removed]",
      "text/plain": [
       "<matplotlib.figure.Figure at 0x2299cd97a90>"
      ]
     },
     "metadata": {},
     "output_type": "display_data"
    }
   ],
   "source": [
    "plt.scatter(df['State'],df['nWorkers'])\n",
    "plt.xticks(rotation='vertical')"
   ]
  },
  {
   "cell_type": "code",
   "execution_count": 38,
   "metadata": {
    "collapsed": true
   },
   "outputs": [],
   "source": [
    "states = df['State']"
   ]
  },
  {
   "cell_type": "code",
   "execution_count": 39,
   "metadata": {
    "collapsed": true
   },
   "outputs": [],
   "source": [
    "y_pos=np.arange(len(states))"
   ]
  },
  {
   "cell_type": "code",
   "execution_count": 40,
   "metadata": {},
   "outputs": [
    {
     "data": {
      "text/plain": [
       "(51, 11)"
      ]
     },
     "execution_count": 40,
     "metadata": {},
     "output_type": "execute_result"
    }
   ],
   "source": [
    "df_state.shape"
   ]
  },
  {
   "cell_type": "code",
   "execution_count": 41,
   "metadata": {
    "collapsed": true
   },
   "outputs": [],
   "source": [
    "df_state.sort_values('nWorkers', inplace = True)"
   ]
  },
  {
   "cell_type": "code",
   "execution_count": 42,
   "metadata": {},
   "outputs": [
    {
     "data": {
      "text/html": [
       "<div>\n",
       "<style>\n",
       "    .dataframe thead tr:only-child th {\n",
       "        text-align: right;\n",
       "    }\n",
       "\n",
       "    .dataframe thead th {\n",
       "        text-align: left;\n",
       "    }\n",
       "\n",
       "    .dataframe tbody tr th {\n",
       "        vertical-align: top;\n",
       "    }\n",
       "</style>\n",
       "<table border=\"1\" class=\"dataframe\">\n",
       "  <thead>\n",
       "    <tr style=\"text-align: right;\">\n",
       "      <th></th>\n",
       "      <th>FIPS_state_res</th>\n",
       "      <th>FIPS_co_res</th>\n",
       "      <th>census_MCD_res</th>\n",
       "      <th>FIPS_MSA_res</th>\n",
       "      <th>FIPS_MCD_res</th>\n",
       "      <th>FIPS_state_work</th>\n",
       "      <th>FIPS_co_work</th>\n",
       "      <th>census_MCD_work</th>\n",
       "      <th>FIPS_MSA_work</th>\n",
       "      <th>FIPS_MCD_work</th>\n",
       "      <th>nWorkers</th>\n",
       "    </tr>\n",
       "    <tr>\n",
       "      <th>State</th>\n",
       "      <th></th>\n",
       "      <th></th>\n",
       "      <th></th>\n",
       "      <th></th>\n",
       "      <th></th>\n",
       "      <th></th>\n",
       "      <th></th>\n",
       "      <th></th>\n",
       "      <th></th>\n",
       "      <th></th>\n",
       "      <th></th>\n",
       "    </tr>\n",
       "  </thead>\n",
       "  <tbody>\n",
       "    <tr>\n",
       "      <th>WY</th>\n",
       "      <td>35336</td>\n",
       "      <td>12925</td>\n",
       "      <td>NaN</td>\n",
       "      <td>5250923</td>\n",
       "      <td>NaN</td>\n",
       "      <td>27517</td>\n",
       "      <td>31143</td>\n",
       "      <td>415.0</td>\n",
       "      <td>4854552</td>\n",
       "      <td>222545.0</td>\n",
       "      <td>208374</td>\n",
       "    </tr>\n",
       "    <tr>\n",
       "      <th>AK</th>\n",
       "      <td>772</td>\n",
       "      <td>50231</td>\n",
       "      <td>NaN</td>\n",
       "      <td>3138189</td>\n",
       "      <td>NaN</td>\n",
       "      <td>12551</td>\n",
       "      <td>42746</td>\n",
       "      <td>35.0</td>\n",
       "      <td>3100415</td>\n",
       "      <td>16495.0</td>\n",
       "      <td>263761</td>\n",
       "    </tr>\n",
       "    <tr>\n",
       "      <th>VT</th>\n",
       "      <td>312250</td>\n",
       "      <td>96333</td>\n",
       "      <td>321988.0</td>\n",
       "      <td>58018509</td>\n",
       "      <td>273781550.0</td>\n",
       "      <td>292330</td>\n",
       "      <td>116169</td>\n",
       "      <td>324124.0</td>\n",
       "      <td>51587302</td>\n",
       "      <td>249049645.0</td>\n",
       "      <td>276765</td>\n",
       "    </tr>\n",
       "    <tr>\n",
       "      <th>ND</th>\n",
       "      <td>43054</td>\n",
       "      <td>59349</td>\n",
       "      <td>NaN</td>\n",
       "      <td>9282920</td>\n",
       "      <td>NaN</td>\n",
       "      <td>42112</td>\n",
       "      <td>73121</td>\n",
       "      <td>355.0</td>\n",
       "      <td>9099270</td>\n",
       "      <td>175110.0</td>\n",
       "      <td>293548</td>\n",
       "    </tr>\n",
       "    <tr>\n",
       "      <th>DC</th>\n",
       "      <td>2299</td>\n",
       "      <td>209</td>\n",
       "      <td>NaN</td>\n",
       "      <td>1847560</td>\n",
       "      <td>NaN</td>\n",
       "      <td>13467</td>\n",
       "      <td>20076</td>\n",
       "      <td>1250.0</td>\n",
       "      <td>1336892</td>\n",
       "      <td>646995.0</td>\n",
       "      <td>304428</td>\n",
       "    </tr>\n",
       "  </tbody>\n",
       "</table>\n",
       "</div>"
      ],
      "text/plain": [
       "       FIPS_state_res  FIPS_co_res  census_MCD_res  FIPS_MSA_res  \\\n",
       "State                                                              \n",
       "WY              35336        12925             NaN       5250923   \n",
       "AK                772        50231             NaN       3138189   \n",
       "VT             312250        96333        321988.0      58018509   \n",
       "ND              43054        59349             NaN       9282920   \n",
       "DC               2299          209             NaN       1847560   \n",
       "\n",
       "       FIPS_MCD_res  FIPS_state_work  FIPS_co_work  census_MCD_work  \\\n",
       "State                                                                 \n",
       "WY              NaN            27517         31143            415.0   \n",
       "AK              NaN            12551         42746             35.0   \n",
       "VT      273781550.0           292330        116169         324124.0   \n",
       "ND              NaN            42112         73121            355.0   \n",
       "DC              NaN            13467         20076           1250.0   \n",
       "\n",
       "       FIPS_MSA_work  FIPS_MCD_work  nWorkers  \n",
       "State                                          \n",
       "WY           4854552       222545.0    208374  \n",
       "AK           3100415        16495.0    263761  \n",
       "VT          51587302    249049645.0    276765  \n",
       "ND           9099270       175110.0    293548  \n",
       "DC           1336892       646995.0    304428  "
      ]
     },
     "execution_count": 42,
     "metadata": {},
     "output_type": "execute_result"
    }
   ],
   "source": [
    "df_state.head()"
   ]
  },
  {
   "cell_type": "code",
   "execution_count": 43,
   "metadata": {},
   "outputs": [
    {
     "data": {
      "text/plain": [
       "<Container object of 51 artists>"
      ]
     },
     "execution_count": 43,
     "metadata": {},
     "output_type": "execute_result"
    },
    {
     "data": {
      "image/png": "[encoded data removed]",
      "text/plain": [
       "<matplotlib.figure.Figure at 0x2299a763898>"
      ]
     },
     "metadata": {},
     "output_type": "display_data"
    }
   ],
   "source": [
    "plt.bar(range(df_state.shape[0]), df_state['nWorkers'], tick_label = df_state.index)"
   ]
  },
  {
   "cell_type": "code",
   "execution_count": 44,
   "metadata": {
    "collapsed": true
   },
   "outputs": [],
   "source": [
    "#Read in csv file with population information"
   ]
  },
  {
   "cell_type": "code",
   "execution_count": 49,
   "metadata": {
    "collapsed": true,
    "scrolled": true
   },
   "outputs": [],
   "source": [
    "df_pop = pd.read_csv('counties.csv')"
   ]
  },
  {
   "cell_type": "code",
   "execution_count": 50,
   "metadata": {},
   "outputs": [
    {
     "name": "stdout",
     "output_type": "stream",
     "text": [
      "       State   FIPS  Year  Population\n",
      "0         AL   1001  1970       24460\n",
      "1         AL   1001  1971       25500\n",
      "2         AL   1001  1972       27200\n",
      "3         AL   1001  1973       28500\n",
      "4         AL   1001  1974       29300\n",
      "5         AL   1001  1975       29700\n",
      "6         AL   1001  1976       29900\n",
      "7         AL   1001  1977       30500\n",
      "8         AL   1001  1978       30900\n",
      "9         AL   1001  1979       32100\n",
      "10        AL   1001  1980       32259\n",
      "11        AL   1001  1981       31985\n",
      "12        AL   1001  1982       32036\n",
      "13        AL   1001  1983       32054\n",
      "14        AL   1001  1984       32134\n",
      "15        AL   1001  1985       32245\n",
      "16        AL   1001  1986       32893\n",
      "17        AL   1001  1987       33268\n",
      "18        AL   1001  1988       33636\n",
      "19        AL   1001  1989       33996\n",
      "20        AL   1001  1990       34356\n",
      "21        AL   1001  1991       35018\n",
      "22        AL   1001  1992       36002\n",
      "23        AL   1001  1993       36976\n",
      "24        AL   1001  1994       38218\n",
      "25        AL   1001  1995       39154\n",
      "26        AL   1001  1996       40251\n",
      "27        AL   1001  1997       41293\n",
      "28        AL   1001  1998       42193\n",
      "29        AL   1001  1999       43140\n",
      "...      ...    ...   ...         ...\n",
      "144442    WY  56045  1986        7593\n",
      "144443    WY  56045  1987        7249\n",
      "144444    WY  56045  1988        6843\n",
      "144445    WY  56045  1989        6677\n",
      "144446    WY  56045  1990        6499\n",
      "144447    WY  56045  1991        6478\n",
      "144448    WY  56045  1992        6571\n",
      "144449    WY  56045  1993        6492\n",
      "144450    WY  56045  1994        6572\n",
      "144451    WY  56045  1995        6566\n",
      "144452    WY  56045  1996        6583\n",
      "144453    WY  56045  1997        6514\n",
      "144454    WY  56045  1998        6500\n",
      "144455    WY  56045  1999        6403\n",
      "144456    WY  56045  2000        6627\n",
      "144457    WY  56045  2001        6487\n",
      "144458    WY  56045  2002        6578\n",
      "144459    WY  56045  2003        6610\n",
      "144460    WY  56045  2004        6646\n",
      "144461    WY  56045  2005        6594\n",
      "144462    WY  56045  2006        6717\n",
      "144463    WY  56045  2007        7033\n",
      "144464    WY  56045  2008        7133\n",
      "144465    WY  56045  2009        7266\n",
      "144466    WY  56045  2010        7181\n",
      "144467    WY  56045  2011        7114\n",
      "144468    WY  56045  2012        7065\n",
      "144469    WY  56045  2013        7160\n",
      "144470    WY  56045  2014        7185\n",
      "144471    WY  56045  2015        7234\n",
      "\n",
      "[144472 rows x 4 columns]\n"
     ]
    }
   ],
   "source": [
    "print(df_pop)"
   ]
  },
  {
   "cell_type": "code",
   "execution_count": 61,
   "metadata": {
    "collapsed": true
   },
   "outputs": [],
   "source": [
    "pop_group = df_pop.iloc[0::20,:]"
   ]
  },
  {
   "cell_type": "code",
   "execution_count": 62,
   "metadata": {},
   "outputs": [
    {
     "name": "stdout",
     "output_type": "stream",
     "text": [
      "       State   FIPS  Year  Population\n",
      "0         AL   1001  1970       24460\n",
      "20        AL   1001  1990       34356\n",
      "40        AL   1001  2010       54660\n",
      "60        AL   1003  1984       86752\n",
      "80        AL   1003  2004      156266\n",
      "100       AL   1005  1978       24500\n",
      "120       AL   1005  1998       26936\n",
      "140       AL   1007  1972       14100\n",
      "160       AL   1007  1992       17191\n",
      "180       AL   1007  2012       22642\n",
      "200       AL   1009  1986       37995\n",
      "220       AL   1009  2006       55485\n",
      "240       AL   1011  1980       10596\n",
      "260       AL   1011  2000       11581\n",
      "280       AL   1013  1974       21200\n",
      "300       AL   1013  1994       21811\n",
      "320       AL   1013  2014       20276\n",
      "340       AL   1015  1988      117260\n",
      "360       AL   1015  2008      117274\n",
      "380       AL   1017  1982       39336\n",
      "400       AL   1017  2002       35965\n",
      "420       AL   1019  1976       18600\n",
      "440       AL   1019  1996       21281\n",
      "460       AL   1021  1970       25180\n",
      "480       AL   1021  1990       32520\n",
      "500       AL   1021  2010       43665\n",
      "520       AL   1023  1984       16618\n",
      "540       AL   1023  2004       14930\n",
      "560       AL   1025  1978       28400\n",
      "580       AL   1025  1998       28531\n",
      "...      ...    ...   ...         ...\n",
      "143880    WY  56021  1976       65600\n",
      "143900    WY  56021  1996       78729\n",
      "143920    WY  56023  1970        8640\n",
      "143940    WY  56023  1990       12701\n",
      "143960    WY  56023  2010       18091\n",
      "143980    WY  56025  1984       73166\n",
      "144000    WY  56025  2004       69035\n",
      "144020    WY  56027  1978        3000\n",
      "144040    WY  56027  1998        2700\n",
      "144060    WY  56029  1972       18200\n",
      "144080    WY  56029  1992       23673\n",
      "144100    WY  56029  2012       28863\n",
      "144120    WY  56031  1986        9144\n",
      "144140    WY  56031  2006        8690\n",
      "144160    WY  56033  1980       25048\n",
      "144180    WY  56033  2000       26584\n",
      "144200    WY  56035  1974        3700\n",
      "144220    WY  56035  1994        5390\n",
      "144240    WY  56035  2014       10039\n",
      "144260    WY  56037  1988       40078\n",
      "144280    WY  56037  2008       42358\n",
      "144300    WY  56039  1982       10519\n",
      "144320    WY  56039  2002       18837\n",
      "144340    WY  56041  1976        9900\n",
      "144360    WY  56041  1996       20221\n",
      "144380    WY  56043  1970        7569\n",
      "144400    WY  56043  1990        8365\n",
      "144420    WY  56043  2010        8545\n",
      "144440    WY  56045  1984        7853\n",
      "144460    WY  56045  2004        6646\n",
      "\n",
      "[7224 rows x 4 columns]\n"
     ]
    }
   ],
   "source": [
    "print(pop_group)"
   ]
  },
  {
   "cell_type": "code",
   "execution_count": 56,
   "metadata": {},
   "outputs": [
    {
     "data": {
      "text/html": [
       "<div>\n",
       "<style>\n",
       "    .dataframe thead tr:only-child th {\n",
       "        text-align: right;\n",
       "    }\n",
       "\n",
       "    .dataframe thead th {\n",
       "        text-align: left;\n",
       "    }\n",
       "\n",
       "    .dataframe tbody tr th {\n",
       "        vertical-align: top;\n",
       "    }\n",
       "</style>\n",
       "<table border=\"1\" class=\"dataframe\">\n",
       "  <thead>\n",
       "    <tr style=\"text-align: right;\">\n",
       "      <th></th>\n",
       "      <th>State</th>\n",
       "      <th>FIPS</th>\n",
       "      <th>Year</th>\n",
       "      <th>Population</th>\n",
       "    </tr>\n",
       "  </thead>\n",
       "  <tbody>\n",
       "    <tr>\n",
       "      <th>0</th>\n",
       "      <td>AL</td>\n",
       "      <td>1001</td>\n",
       "      <td>1970</td>\n",
       "      <td>24460</td>\n",
       "    </tr>\n",
       "    <tr>\n",
       "      <th>1</th>\n",
       "      <td>AL</td>\n",
       "      <td>1001</td>\n",
       "      <td>1971</td>\n",
       "      <td>25500</td>\n",
       "    </tr>\n",
       "    <tr>\n",
       "      <th>2</th>\n",
       "      <td>AL</td>\n",
       "      <td>1001</td>\n",
       "      <td>1972</td>\n",
       "      <td>27200</td>\n",
       "    </tr>\n",
       "    <tr>\n",
       "      <th>3</th>\n",
       "      <td>AL</td>\n",
       "      <td>1001</td>\n",
       "      <td>1973</td>\n",
       "      <td>28500</td>\n",
       "    </tr>\n",
       "    <tr>\n",
       "      <th>4</th>\n",
       "      <td>AL</td>\n",
       "      <td>1001</td>\n",
       "      <td>1974</td>\n",
       "      <td>29300</td>\n",
       "    </tr>\n",
       "    <tr>\n",
       "      <th>5</th>\n",
       "      <td>AL</td>\n",
       "      <td>1001</td>\n",
       "      <td>1975</td>\n",
       "      <td>29700</td>\n",
       "    </tr>\n",
       "    <tr>\n",
       "      <th>6</th>\n",
       "      <td>AL</td>\n",
       "      <td>1001</td>\n",
       "      <td>1976</td>\n",
       "      <td>29900</td>\n",
       "    </tr>\n",
       "    <tr>\n",
       "      <th>7</th>\n",
       "      <td>AL</td>\n",
       "      <td>1001</td>\n",
       "      <td>1977</td>\n",
       "      <td>30500</td>\n",
       "    </tr>\n",
       "    <tr>\n",
       "      <th>8</th>\n",
       "      <td>AL</td>\n",
       "      <td>1001</td>\n",
       "      <td>1978</td>\n",
       "      <td>30900</td>\n",
       "    </tr>\n",
       "    <tr>\n",
       "      <th>9</th>\n",
       "      <td>AL</td>\n",
       "      <td>1001</td>\n",
       "      <td>1979</td>\n",
       "      <td>32100</td>\n",
       "    </tr>\n",
       "    <tr>\n",
       "      <th>10</th>\n",
       "      <td>AL</td>\n",
       "      <td>1001</td>\n",
       "      <td>1980</td>\n",
       "      <td>32259</td>\n",
       "    </tr>\n",
       "    <tr>\n",
       "      <th>11</th>\n",
       "      <td>AL</td>\n",
       "      <td>1001</td>\n",
       "      <td>1981</td>\n",
       "      <td>31985</td>\n",
       "    </tr>\n",
       "    <tr>\n",
       "      <th>12</th>\n",
       "      <td>AL</td>\n",
       "      <td>1001</td>\n",
       "      <td>1982</td>\n",
       "      <td>32036</td>\n",
       "    </tr>\n",
       "    <tr>\n",
       "      <th>13</th>\n",
       "      <td>AL</td>\n",
       "      <td>1001</td>\n",
       "      <td>1983</td>\n",
       "      <td>32054</td>\n",
       "    </tr>\n",
       "    <tr>\n",
       "      <th>14</th>\n",
       "      <td>AL</td>\n",
       "      <td>1001</td>\n",
       "      <td>1984</td>\n",
       "      <td>32134</td>\n",
       "    </tr>\n",
       "    <tr>\n",
       "      <th>15</th>\n",
       "      <td>AL</td>\n",
       "      <td>1001</td>\n",
       "      <td>1985</td>\n",
       "      <td>32245</td>\n",
       "    </tr>\n",
       "    <tr>\n",
       "      <th>16</th>\n",
       "      <td>AL</td>\n",
       "      <td>1001</td>\n",
       "      <td>1986</td>\n",
       "      <td>32893</td>\n",
       "    </tr>\n",
       "    <tr>\n",
       "      <th>17</th>\n",
       "      <td>AL</td>\n",
       "      <td>1001</td>\n",
       "      <td>1987</td>\n",
       "      <td>33268</td>\n",
       "    </tr>\n",
       "    <tr>\n",
       "      <th>18</th>\n",
       "      <td>AL</td>\n",
       "      <td>1001</td>\n",
       "      <td>1988</td>\n",
       "      <td>33636</td>\n",
       "    </tr>\n",
       "    <tr>\n",
       "      <th>19</th>\n",
       "      <td>AL</td>\n",
       "      <td>1001</td>\n",
       "      <td>1989</td>\n",
       "      <td>33996</td>\n",
       "    </tr>\n",
       "    <tr>\n",
       "      <th>20</th>\n",
       "      <td>AL</td>\n",
       "      <td>1001</td>\n",
       "      <td>1990</td>\n",
       "      <td>34356</td>\n",
       "    </tr>\n",
       "    <tr>\n",
       "      <th>21</th>\n",
       "      <td>AL</td>\n",
       "      <td>1001</td>\n",
       "      <td>1991</td>\n",
       "      <td>35018</td>\n",
       "    </tr>\n",
       "    <tr>\n",
       "      <th>22</th>\n",
       "      <td>AL</td>\n",
       "      <td>1001</td>\n",
       "      <td>1992</td>\n",
       "      <td>36002</td>\n",
       "    </tr>\n",
       "    <tr>\n",
       "      <th>23</th>\n",
       "      <td>AL</td>\n",
       "      <td>1001</td>\n",
       "      <td>1993</td>\n",
       "      <td>36976</td>\n",
       "    </tr>\n",
       "    <tr>\n",
       "      <th>24</th>\n",
       "      <td>AL</td>\n",
       "      <td>1001</td>\n",
       "      <td>1994</td>\n",
       "      <td>38218</td>\n",
       "    </tr>\n",
       "    <tr>\n",
       "      <th>25</th>\n",
       "      <td>AL</td>\n",
       "      <td>1001</td>\n",
       "      <td>1995</td>\n",
       "      <td>39154</td>\n",
       "    </tr>\n",
       "    <tr>\n",
       "      <th>26</th>\n",
       "      <td>AL</td>\n",
       "      <td>1001</td>\n",
       "      <td>1996</td>\n",
       "      <td>40251</td>\n",
       "    </tr>\n",
       "    <tr>\n",
       "      <th>27</th>\n",
       "      <td>AL</td>\n",
       "      <td>1001</td>\n",
       "      <td>1997</td>\n",
       "      <td>41293</td>\n",
       "    </tr>\n",
       "    <tr>\n",
       "      <th>28</th>\n",
       "      <td>AL</td>\n",
       "      <td>1001</td>\n",
       "      <td>1998</td>\n",
       "      <td>42193</td>\n",
       "    </tr>\n",
       "    <tr>\n",
       "      <th>29</th>\n",
       "      <td>AL</td>\n",
       "      <td>1001</td>\n",
       "      <td>1999</td>\n",
       "      <td>43140</td>\n",
       "    </tr>\n",
       "    <tr>\n",
       "      <th>...</th>\n",
       "      <td>...</td>\n",
       "      <td>...</td>\n",
       "      <td>...</td>\n",
       "      <td>...</td>\n",
       "    </tr>\n",
       "    <tr>\n",
       "      <th>200</th>\n",
       "      <td>AL</td>\n",
       "      <td>1009</td>\n",
       "      <td>1986</td>\n",
       "      <td>37995</td>\n",
       "    </tr>\n",
       "    <tr>\n",
       "      <th>201</th>\n",
       "      <td>AL</td>\n",
       "      <td>1009</td>\n",
       "      <td>1987</td>\n",
       "      <td>38017</td>\n",
       "    </tr>\n",
       "    <tr>\n",
       "      <th>202</th>\n",
       "      <td>AL</td>\n",
       "      <td>1009</td>\n",
       "      <td>1988</td>\n",
       "      <td>38250</td>\n",
       "    </tr>\n",
       "    <tr>\n",
       "      <th>203</th>\n",
       "      <td>AL</td>\n",
       "      <td>1009</td>\n",
       "      <td>1989</td>\n",
       "      <td>38771</td>\n",
       "    </tr>\n",
       "    <tr>\n",
       "      <th>204</th>\n",
       "      <td>AL</td>\n",
       "      <td>1009</td>\n",
       "      <td>1990</td>\n",
       "      <td>39410</td>\n",
       "    </tr>\n",
       "    <tr>\n",
       "      <th>205</th>\n",
       "      <td>AL</td>\n",
       "      <td>1009</td>\n",
       "      <td>1991</td>\n",
       "      <td>39868</td>\n",
       "    </tr>\n",
       "    <tr>\n",
       "      <th>206</th>\n",
       "      <td>AL</td>\n",
       "      <td>1009</td>\n",
       "      <td>1992</td>\n",
       "      <td>40230</td>\n",
       "    </tr>\n",
       "    <tr>\n",
       "      <th>207</th>\n",
       "      <td>AL</td>\n",
       "      <td>1009</td>\n",
       "      <td>1993</td>\n",
       "      <td>40992</td>\n",
       "    </tr>\n",
       "    <tr>\n",
       "      <th>208</th>\n",
       "      <td>AL</td>\n",
       "      <td>1009</td>\n",
       "      <td>1994</td>\n",
       "      <td>41363</td>\n",
       "    </tr>\n",
       "    <tr>\n",
       "      <th>209</th>\n",
       "      <td>AL</td>\n",
       "      <td>1009</td>\n",
       "      <td>1995</td>\n",
       "      <td>42586</td>\n",
       "    </tr>\n",
       "    <tr>\n",
       "      <th>210</th>\n",
       "      <td>AL</td>\n",
       "      <td>1009</td>\n",
       "      <td>1996</td>\n",
       "      <td>43544</td>\n",
       "    </tr>\n",
       "    <tr>\n",
       "      <th>211</th>\n",
       "      <td>AL</td>\n",
       "      <td>1009</td>\n",
       "      <td>1997</td>\n",
       "      <td>44897</td>\n",
       "    </tr>\n",
       "    <tr>\n",
       "      <th>212</th>\n",
       "      <td>AL</td>\n",
       "      <td>1009</td>\n",
       "      <td>1998</td>\n",
       "      <td>46292</td>\n",
       "    </tr>\n",
       "    <tr>\n",
       "      <th>213</th>\n",
       "      <td>AL</td>\n",
       "      <td>1009</td>\n",
       "      <td>1999</td>\n",
       "      <td>47411</td>\n",
       "    </tr>\n",
       "    <tr>\n",
       "      <th>214</th>\n",
       "      <td>AL</td>\n",
       "      <td>1009</td>\n",
       "      <td>2000</td>\n",
       "      <td>51107</td>\n",
       "    </tr>\n",
       "    <tr>\n",
       "      <th>215</th>\n",
       "      <td>AL</td>\n",
       "      <td>1009</td>\n",
       "      <td>2001</td>\n",
       "      <td>51845</td>\n",
       "    </tr>\n",
       "    <tr>\n",
       "      <th>216</th>\n",
       "      <td>AL</td>\n",
       "      <td>1009</td>\n",
       "      <td>2002</td>\n",
       "      <td>52551</td>\n",
       "    </tr>\n",
       "    <tr>\n",
       "      <th>217</th>\n",
       "      <td>AL</td>\n",
       "      <td>1009</td>\n",
       "      <td>2003</td>\n",
       "      <td>53457</td>\n",
       "    </tr>\n",
       "    <tr>\n",
       "      <th>218</th>\n",
       "      <td>AL</td>\n",
       "      <td>1009</td>\n",
       "      <td>2004</td>\n",
       "      <td>54124</td>\n",
       "    </tr>\n",
       "    <tr>\n",
       "      <th>219</th>\n",
       "      <td>AL</td>\n",
       "      <td>1009</td>\n",
       "      <td>2005</td>\n",
       "      <td>54624</td>\n",
       "    </tr>\n",
       "    <tr>\n",
       "      <th>220</th>\n",
       "      <td>AL</td>\n",
       "      <td>1009</td>\n",
       "      <td>2006</td>\n",
       "      <td>55485</td>\n",
       "    </tr>\n",
       "    <tr>\n",
       "      <th>221</th>\n",
       "      <td>AL</td>\n",
       "      <td>1009</td>\n",
       "      <td>2007</td>\n",
       "      <td>56240</td>\n",
       "    </tr>\n",
       "    <tr>\n",
       "      <th>222</th>\n",
       "      <td>AL</td>\n",
       "      <td>1009</td>\n",
       "      <td>2008</td>\n",
       "      <td>57055</td>\n",
       "    </tr>\n",
       "    <tr>\n",
       "      <th>223</th>\n",
       "      <td>AL</td>\n",
       "      <td>1009</td>\n",
       "      <td>2009</td>\n",
       "      <td>57341</td>\n",
       "    </tr>\n",
       "    <tr>\n",
       "      <th>224</th>\n",
       "      <td>AL</td>\n",
       "      <td>1009</td>\n",
       "      <td>2010</td>\n",
       "      <td>57373</td>\n",
       "    </tr>\n",
       "    <tr>\n",
       "      <th>225</th>\n",
       "      <td>AL</td>\n",
       "      <td>1009</td>\n",
       "      <td>2011</td>\n",
       "      <td>57711</td>\n",
       "    </tr>\n",
       "    <tr>\n",
       "      <th>226</th>\n",
       "      <td>AL</td>\n",
       "      <td>1009</td>\n",
       "      <td>2012</td>\n",
       "      <td>57776</td>\n",
       "    </tr>\n",
       "    <tr>\n",
       "      <th>227</th>\n",
       "      <td>AL</td>\n",
       "      <td>1009</td>\n",
       "      <td>2013</td>\n",
       "      <td>57734</td>\n",
       "    </tr>\n",
       "    <tr>\n",
       "      <th>228</th>\n",
       "      <td>AL</td>\n",
       "      <td>1009</td>\n",
       "      <td>2014</td>\n",
       "      <td>57658</td>\n",
       "    </tr>\n",
       "    <tr>\n",
       "      <th>229</th>\n",
       "      <td>AL</td>\n",
       "      <td>1009</td>\n",
       "      <td>2015</td>\n",
       "      <td>57673</td>\n",
       "    </tr>\n",
       "  </tbody>\n",
       "</table>\n",
       "<p>230 rows × 4 columns</p>\n",
       "</div>"
      ],
      "text/plain": [
       "    State  FIPS  Year  Population\n",
       "0      AL  1001  1970       24460\n",
       "1      AL  1001  1971       25500\n",
       "2      AL  1001  1972       27200\n",
       "3      AL  1001  1973       28500\n",
       "4      AL  1001  1974       29300\n",
       "5      AL  1001  1975       29700\n",
       "6      AL  1001  1976       29900\n",
       "7      AL  1001  1977       30500\n",
       "8      AL  1001  1978       30900\n",
       "9      AL  1001  1979       32100\n",
       "10     AL  1001  1980       32259\n",
       "11     AL  1001  1981       31985\n",
       "12     AL  1001  1982       32036\n",
       "13     AL  1001  1983       32054\n",
       "14     AL  1001  1984       32134\n",
       "15     AL  1001  1985       32245\n",
       "16     AL  1001  1986       32893\n",
       "17     AL  1001  1987       33268\n",
       "18     AL  1001  1988       33636\n",
       "19     AL  1001  1989       33996\n",
       "20     AL  1001  1990       34356\n",
       "21     AL  1001  1991       35018\n",
       "22     AL  1001  1992       36002\n",
       "23     AL  1001  1993       36976\n",
       "24     AL  1001  1994       38218\n",
       "25     AL  1001  1995       39154\n",
       "26     AL  1001  1996       40251\n",
       "27     AL  1001  1997       41293\n",
       "28     AL  1001  1998       42193\n",
       "29     AL  1001  1999       43140\n",
       "..    ...   ...   ...         ...\n",
       "200    AL  1009  1986       37995\n",
       "201    AL  1009  1987       38017\n",
       "202    AL  1009  1988       38250\n",
       "203    AL  1009  1989       38771\n",
       "204    AL  1009  1990       39410\n",
       "205    AL  1009  1991       39868\n",
       "206    AL  1009  1992       40230\n",
       "207    AL  1009  1993       40992\n",
       "208    AL  1009  1994       41363\n",
       "209    AL  1009  1995       42586\n",
       "210    AL  1009  1996       43544\n",
       "211    AL  1009  1997       44897\n",
       "212    AL  1009  1998       46292\n",
       "213    AL  1009  1999       47411\n",
       "214    AL  1009  2000       51107\n",
       "215    AL  1009  2001       51845\n",
       "216    AL  1009  2002       52551\n",
       "217    AL  1009  2003       53457\n",
       "218    AL  1009  2004       54124\n",
       "219    AL  1009  2005       54624\n",
       "220    AL  1009  2006       55485\n",
       "221    AL  1009  2007       56240\n",
       "222    AL  1009  2008       57055\n",
       "223    AL  1009  2009       57341\n",
       "224    AL  1009  2010       57373\n",
       "225    AL  1009  2011       57711\n",
       "226    AL  1009  2012       57776\n",
       "227    AL  1009  2013       57734\n",
       "228    AL  1009  2014       57658\n",
       "229    AL  1009  2015       57673\n",
       "\n",
       "[230 rows x 4 columns]"
      ]
     },
     "execution_count": 56,
     "metadata": {},
     "output_type": "execute_result"
    }
   ],
   "source": [
    "pop_group.head()"
   ]
  },
  {
   "cell_type": "code",
   "execution_count": null,
   "metadata": {
    "collapsed": true
   },
   "outputs": [],
   "source": []
  }
 ],
 "metadata": {
  "kernelspec": {
   "display_name": "Python 3",
   "language": "python",
   "name": "python3"
  },
  "language_info": {
   "codemirror_mode": {
    "name": "ipython",
    "version": 3
   },
   "file_extension": ".py",
   "mimetype": "text/x-python",
   "name": "python",
   "nbconvert_exporter": "python",
   "pygments_lexer": "ipython3",
   "version": "3.6.3"
  }
 },
 "nbformat": 4,
 "nbformat_minor": 2
}
